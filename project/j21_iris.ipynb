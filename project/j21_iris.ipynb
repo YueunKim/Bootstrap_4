{
 "cells": [
  {
   "cell_type": "markdown",
   "metadata": {},
   "source": [
    "# Iris Classification (분류)"
   ]
  },
  {
   "cell_type": "markdown",
   "metadata": {},
   "source": [
    "# Machine learning"
   ]
  },
  {
   "cell_type": "markdown",
   "metadata": {},
   "source": [
    "### 1. Logistic Regression : 독립변수와 종속변수의 선형 관계성에 기반"
   ]
  },
  {
   "cell_type": "code",
   "execution_count": 1,
   "metadata": {},
   "outputs": [],
   "source": [
    "import numpy as np\n",
    "import pandas as pd  \n",
    "import warnings\n",
    "warnings.filterwarnings('ignore')"
   ]
  },
  {
   "cell_type": "code",
   "execution_count": 2,
   "metadata": {},
   "outputs": [],
   "source": [
    "from sklearn.datasets import load_iris\n",
    "iris = load_iris()       "
   ]
  },
  {
   "cell_type": "code",
   "execution_count": 3,
   "metadata": {},
   "outputs": [
    {
     "data": {
      "text/html": [
       "<div>\n",
       "<style scoped>\n",
       "    .dataframe tbody tr th:only-of-type {\n",
       "        vertical-align: middle;\n",
       "    }\n",
       "\n",
       "    .dataframe tbody tr th {\n",
       "        vertical-align: top;\n",
       "    }\n",
       "\n",
       "    .dataframe thead th {\n",
       "        text-align: right;\n",
       "    }\n",
       "</style>\n",
       "<table border=\"1\" class=\"dataframe\">\n",
       "  <thead>\n",
       "    <tr style=\"text-align: right;\">\n",
       "      <th></th>\n",
       "      <th>sepal length (cm)</th>\n",
       "      <th>sepal width (cm)</th>\n",
       "      <th>petal length (cm)</th>\n",
       "      <th>petal width (cm)</th>\n",
       "    </tr>\n",
       "  </thead>\n",
       "  <tbody>\n",
       "    <tr>\n",
       "      <th>0</th>\n",
       "      <td>5.1</td>\n",
       "      <td>3.5</td>\n",
       "      <td>1.4</td>\n",
       "      <td>0.2</td>\n",
       "    </tr>\n",
       "    <tr>\n",
       "      <th>1</th>\n",
       "      <td>4.9</td>\n",
       "      <td>3.0</td>\n",
       "      <td>1.4</td>\n",
       "      <td>0.2</td>\n",
       "    </tr>\n",
       "    <tr>\n",
       "      <th>2</th>\n",
       "      <td>4.7</td>\n",
       "      <td>3.2</td>\n",
       "      <td>1.3</td>\n",
       "      <td>0.2</td>\n",
       "    </tr>\n",
       "    <tr>\n",
       "      <th>3</th>\n",
       "      <td>4.6</td>\n",
       "      <td>3.1</td>\n",
       "      <td>1.5</td>\n",
       "      <td>0.2</td>\n",
       "    </tr>\n",
       "    <tr>\n",
       "      <th>4</th>\n",
       "      <td>5.0</td>\n",
       "      <td>3.6</td>\n",
       "      <td>1.4</td>\n",
       "      <td>0.2</td>\n",
       "    </tr>\n",
       "  </tbody>\n",
       "</table>\n",
       "</div>"
      ],
      "text/plain": [
       "   sepal length (cm)  sepal width (cm)  petal length (cm)  petal width (cm)\n",
       "0                5.1               3.5                1.4               0.2\n",
       "1                4.9               3.0                1.4               0.2\n",
       "2                4.7               3.2                1.3               0.2\n",
       "3                4.6               3.1                1.5               0.2\n",
       "4                5.0               3.6                1.4               0.2"
      ]
     },
     "execution_count": 3,
     "metadata": {},
     "output_type": "execute_result"
    }
   ],
   "source": [
    "# load를 하면 data, target, target_names, feature_names, DESCR\n",
    "data = iris.data\n",
    "label = iris.target\n",
    "columns = iris.feature_names\n",
    "df = pd.DataFrame(data, columns = columns)\n",
    "df.head()"
   ]
  },
  {
   "cell_type": "markdown",
   "metadata": {},
   "source": [
    "#### 데이터가 준비되었으니 훈련용 데이터와 테스트용 데이터로 나눔"
   ]
  },
  {
   "cell_type": "code",
   "execution_count": 4,
   "metadata": {},
   "outputs": [],
   "source": [
    "from sklearn.model_selection import train_test_split\n",
    "x_train, x_test, y_train, y_test = \\\n",
    "train_test_split(data, label, test_size = 0.2, shuffle = True, stratify = label, random_state = 2019)"
   ]
  },
  {
   "cell_type": "markdown",
   "metadata": {},
   "source": [
    "#### 모델 객체를 생성"
   ]
  },
  {
   "cell_type": "code",
   "execution_count": 5,
   "metadata": {},
   "outputs": [],
   "source": [
    "from sklearn.linear_model import LogisticRegression\n",
    "lr = LogisticRegression(verbose = 1)"
   ]
  },
  {
   "cell_type": "markdown",
   "metadata": {},
   "source": [
    "#### 모델 학습"
   ]
  },
  {
   "cell_type": "code",
   "execution_count": 6,
   "metadata": {},
   "outputs": [
    {
     "name": "stderr",
     "output_type": "stream",
     "text": [
      "[Parallel(n_jobs=1)]: Using backend SequentialBackend with 1 concurrent workers.\n",
      "[Parallel(n_jobs=1)]: Done   1 out of   1 | elapsed:    0.0s finished\n"
     ]
    },
    {
     "data": {
      "text/plain": [
       "LogisticRegression(verbose=1)"
      ]
     },
     "execution_count": 6,
     "metadata": {},
     "output_type": "execute_result"
    }
   ],
   "source": [
    "lr.fit(x_train, y_train)"
   ]
  },
  {
   "cell_type": "markdown",
   "metadata": {},
   "source": [
    "#### model save를 하려면 joblib"
   ]
  },
  {
   "cell_type": "code",
   "execution_count": 8,
   "metadata": {},
   "outputs": [
    {
     "data": {
      "text/plain": [
       "['model/iris_lr.pkl']"
      ]
     },
     "execution_count": 8,
     "metadata": {},
     "output_type": "execute_result"
    }
   ],
   "source": [
    "import joblib\n",
    "joblib.dump(lr, 'model/iris_lr.pkl')\n",
    "\n",
    "# 이 파일을 읽으면 학습결과가 나타남"
   ]
  },
  {
   "cell_type": "markdown",
   "metadata": {},
   "source": [
    "### 2. Support Vector Machine : 판별경계까지의 거리가 가장 짧은 벡터"
   ]
  },
  {
   "cell_type": "code",
   "execution_count": 9,
   "metadata": {},
   "outputs": [],
   "source": [
    "from sklearn.svm import SVC"
   ]
  },
  {
   "cell_type": "markdown",
   "metadata": {},
   "source": [
    "#### 모델 객체를 생성"
   ]
  },
  {
   "cell_type": "code",
   "execution_count": 10,
   "metadata": {},
   "outputs": [],
   "source": [
    "svc = SVC()"
   ]
  },
  {
   "cell_type": "markdown",
   "metadata": {},
   "source": [
    "#### 모델 학습"
   ]
  },
  {
   "cell_type": "code",
   "execution_count": 11,
   "metadata": {},
   "outputs": [
    {
     "data": {
      "text/plain": [
       "SVC()"
      ]
     },
     "execution_count": 11,
     "metadata": {},
     "output_type": "execute_result"
    }
   ],
   "source": [
    "svc.fit(x_train, y_train)"
   ]
  },
  {
   "cell_type": "markdown",
   "metadata": {},
   "source": [
    "#### model save"
   ]
  },
  {
   "cell_type": "code",
   "execution_count": 17,
   "metadata": {},
   "outputs": [
    {
     "data": {
      "text/plain": [
       "['model/iris_svm.pkl']"
      ]
     },
     "execution_count": 17,
     "metadata": {},
     "output_type": "execute_result"
    }
   ],
   "source": [
    "joblib.dump(svc, 'model/iris_svm.pkl')"
   ]
  },
  {
   "cell_type": "markdown",
   "metadata": {},
   "source": [
    "### 3. Decision Tree : 데이터에 있는 규칙 학습을 통해 자동으로 찾아내 트리 기반의 분류 규칙을 만드는 것"
   ]
  },
  {
   "cell_type": "code",
   "execution_count": 13,
   "metadata": {},
   "outputs": [],
   "source": [
    "from sklearn.tree import DecisionTreeClassifier"
   ]
  },
  {
   "cell_type": "code",
   "execution_count": 14,
   "metadata": {},
   "outputs": [],
   "source": [
    "dtc = DecisionTreeClassifier()"
   ]
  },
  {
   "cell_type": "code",
   "execution_count": 15,
   "metadata": {},
   "outputs": [
    {
     "data": {
      "text/plain": [
       "DecisionTreeClassifier()"
      ]
     },
     "execution_count": 15,
     "metadata": {},
     "output_type": "execute_result"
    }
   ],
   "source": [
    "dtc.fit(x_train, y_train)"
   ]
  },
  {
   "cell_type": "code",
   "execution_count": 18,
   "metadata": {},
   "outputs": [
    {
     "data": {
      "text/plain": [
       "['model/iris_dt.pkl']"
      ]
     },
     "execution_count": 18,
     "metadata": {},
     "output_type": "execute_result"
    }
   ],
   "source": [
    "joblib.dump(dtc, 'model/iris_dt.pkl')"
   ]
  },
  {
   "cell_type": "markdown",
   "metadata": {},
   "source": [
    "## 저장된 모델로 정확도 산출"
   ]
  },
  {
   "cell_type": "markdown",
   "metadata": {},
   "source": [
    "#### dump로 저장하고, load로 불러와서 반환합니다."
   ]
  },
  {
   "cell_type": "code",
   "execution_count": 19,
   "metadata": {},
   "outputs": [],
   "source": [
    "model_lr = joblib.load('model/iris_lr.pkl')\n",
    "model_svm = joblib.load('model/iris_svm.pkl')\n",
    "model_dt = joblib.load('model/iris_dt.pkl')"
   ]
  },
  {
   "cell_type": "code",
   "execution_count": 20,
   "metadata": {},
   "outputs": [],
   "source": [
    "y_pred_lr = model_lr.predict(x_test)\n",
    "y_pred_svm = model_svm.predict(x_test)\n",
    "y_pred_dt = model_dt.predict(x_test)"
   ]
  },
  {
   "cell_type": "code",
   "execution_count": 22,
   "metadata": {},
   "outputs": [],
   "source": [
    "from sklearn.metrics import accuracy_score"
   ]
  },
  {
   "cell_type": "code",
   "execution_count": 23,
   "metadata": {},
   "outputs": [
    {
     "name": "stdout",
     "output_type": "stream",
     "text": [
      "0.9666666666666667 0.9666666666666667 0.9666666666666667\n"
     ]
    }
   ],
   "source": [
    "acc_lr = accuracy_score(y_test, y_pred_lr)\n",
    "acc_svm = accuracy_score(y_test, y_pred_svm)\n",
    "acc_dt = accuracy_score(y_test, y_pred_dt)\n",
    "print(acc_lr, acc_svm, acc_dt)"
   ]
  },
  {
   "cell_type": "markdown",
   "metadata": {},
   "source": [
    "## 한 개의 테스트 값 예측하기"
   ]
  },
  {
   "cell_type": "code",
   "execution_count": 27,
   "metadata": {},
   "outputs": [
    {
     "data": {
      "text/html": [
       "<div>\n",
       "<style scoped>\n",
       "    .dataframe tbody tr th:only-of-type {\n",
       "        vertical-align: middle;\n",
       "    }\n",
       "\n",
       "    .dataframe tbody tr th {\n",
       "        vertical-align: top;\n",
       "    }\n",
       "\n",
       "    .dataframe thead th {\n",
       "        text-align: right;\n",
       "    }\n",
       "</style>\n",
       "<table border=\"1\" class=\"dataframe\">\n",
       "  <thead>\n",
       "    <tr style=\"text-align: right;\">\n",
       "      <th></th>\n",
       "      <th>sepal length (cm)</th>\n",
       "      <th>sepal width (cm)</th>\n",
       "      <th>petal length (cm)</th>\n",
       "      <th>petal width (cm)</th>\n",
       "    </tr>\n",
       "  </thead>\n",
       "  <tbody>\n",
       "    <tr>\n",
       "      <th>145</th>\n",
       "      <td>6.7</td>\n",
       "      <td>3.0</td>\n",
       "      <td>5.2</td>\n",
       "      <td>2.3</td>\n",
       "    </tr>\n",
       "    <tr>\n",
       "      <th>146</th>\n",
       "      <td>6.3</td>\n",
       "      <td>2.5</td>\n",
       "      <td>5.0</td>\n",
       "      <td>1.9</td>\n",
       "    </tr>\n",
       "    <tr>\n",
       "      <th>147</th>\n",
       "      <td>6.5</td>\n",
       "      <td>3.0</td>\n",
       "      <td>5.2</td>\n",
       "      <td>2.0</td>\n",
       "    </tr>\n",
       "    <tr>\n",
       "      <th>148</th>\n",
       "      <td>6.2</td>\n",
       "      <td>3.4</td>\n",
       "      <td>5.4</td>\n",
       "      <td>2.3</td>\n",
       "    </tr>\n",
       "    <tr>\n",
       "      <th>149</th>\n",
       "      <td>5.9</td>\n",
       "      <td>3.0</td>\n",
       "      <td>5.1</td>\n",
       "      <td>1.8</td>\n",
       "    </tr>\n",
       "  </tbody>\n",
       "</table>\n",
       "</div>"
      ],
      "text/plain": [
       "     sepal length (cm)  sepal width (cm)  petal length (cm)  petal width (cm)\n",
       "145                6.7               3.0                5.2               2.3\n",
       "146                6.3               2.5                5.0               1.9\n",
       "147                6.5               3.0                5.2               2.0\n",
       "148                6.2               3.4                5.4               2.3\n",
       "149                5.9               3.0                5.1               1.8"
      ]
     },
     "execution_count": 27,
     "metadata": {},
     "output_type": "execute_result"
    }
   ],
   "source": [
    "df.tail()"
   ]
  },
  {
   "cell_type": "code",
   "execution_count": 29,
   "metadata": {},
   "outputs": [],
   "source": [
    "# 145번째 값\n",
    "test_data = np.array([6.7, 3.0, 5.2, 2.3]).reshape(1, 4) "
   ]
  },
  {
   "cell_type": "code",
   "execution_count": 30,
   "metadata": {},
   "outputs": [
    {
     "data": {
      "text/plain": [
       "array([2])"
      ]
     },
     "execution_count": 30,
     "metadata": {},
     "output_type": "execute_result"
    }
   ],
   "source": [
    "model_lr.predict(test_data)\n",
    "# 예측값이 2 (setosa = 0, versicolor = 1, virginica = 2)"
   ]
  },
  {
   "cell_type": "code",
   "execution_count": 32,
   "metadata": {},
   "outputs": [],
   "source": [
    "index_lr = model_lr.predict(test_data)[0]\n",
    "index_svm = model_svm.predict(test_data)[0]\n",
    "index_dt = model_dt.predict(test_data)[0]"
   ]
  },
  {
   "cell_type": "code",
   "execution_count": 33,
   "metadata": {},
   "outputs": [],
   "source": [
    "sp_names = ['Setosa', 'Versicolor', 'Virginica']"
   ]
  },
  {
   "cell_type": "code",
   "execution_count": 34,
   "metadata": {},
   "outputs": [
    {
     "name": "stdout",
     "output_type": "stream",
     "text": [
      "Virginica Virginica Virginica\n"
     ]
    }
   ],
   "source": [
    "print(sp_names[index_lr], sp_names[index_svm], sp_names[index_dt])"
   ]
  },
  {
   "cell_type": "markdown",
   "metadata": {},
   "source": [
    "#### server에서는 model.~과 sp_names만 필요"
   ]
  },
  {
   "cell_type": "markdown",
   "metadata": {},
   "source": [
    "# Deep learning model"
   ]
  },
  {
   "cell_type": "code",
   "execution_count": 41,
   "metadata": {},
   "outputs": [
    {
     "name": "stdout",
     "output_type": "stream",
     "text": [
      "Model: \"sequential_2\"\n",
      "_________________________________________________________________\n",
      "Layer (type)                 Output Shape              Param #   \n",
      "=================================================================\n",
      "dense_4 (Dense)              (None, 12)                60        \n",
      "_________________________________________________________________\n",
      "dense_5 (Dense)              (None, 8)                 104       \n",
      "_________________________________________________________________\n",
      "dense_6 (Dense)              (None, 3)                 27        \n",
      "=================================================================\n",
      "Total params: 191\n",
      "Trainable params: 191\n",
      "Non-trainable params: 0\n",
      "_________________________________________________________________\n"
     ]
    }
   ],
   "source": [
    "# 딥러닝 모델 설정\n",
    "from tensorflow import keras\n",
    "from keras.models import Sequential\n",
    "from keras.layers import Dense\n",
    "\n",
    "model = Sequential([\n",
    "    Dense(12, input_shape = (4,), activation = 'relu'),\n",
    "    Dense(8, input_shape = (4,), activation='relu'),\n",
    "    Dense(3, activation='softmax')\n",
    "])\n",
    "model.summary()"
   ]
  },
  {
   "cell_type": "code",
   "execution_count": 42,
   "metadata": {},
   "outputs": [],
   "source": [
    "# 모델 컴파일\n",
    "model.compile(loss='categorical_crossentropy',\n",
    "             optimizer = 'adam',\n",
    "             metrics = ['accuracy'])"
   ]
  },
  {
   "cell_type": "code",
   "execution_count": 43,
   "metadata": {},
   "outputs": [],
   "source": [
    "from keras.callbacks import ModelCheckpoint\n",
    "checkpointer = ModelCheckpoint(filepath = 'model/iris_deep.hdf5',\n",
    "                              monitor = 'val_loss',\n",
    "                              verbose =1, save_best_only = True)"
   ]
  },
  {
   "cell_type": "code",
   "execution_count": 44,
   "metadata": {},
   "outputs": [
    {
     "data": {
      "text/plain": [
       "(array([1., 0., 0.], dtype=float32),\n",
       " array([0., 0., 1.], dtype=float32),\n",
       " array([0., 0., 1.], dtype=float32))"
      ]
     },
     "execution_count": 44,
     "metadata": {},
     "output_type": "execute_result"
    }
   ],
   "source": [
    "# 원핫인코딩\n",
    "Y_encoded = keras.utils.to_categorical(y_train)\n",
    "Y_encoded[0], Y_encoded[50], Y_encoded[100]"
   ]
  },
  {
   "cell_type": "code",
   "execution_count": 47,
   "metadata": {},
   "outputs": [
    {
     "name": "stdout",
     "output_type": "stream",
     "text": [
      "Train on 96 samples, validate on 24 samples\n",
      "Epoch 1/100\n",
      " - 0s - loss: 1.4428 - accuracy: 0.3438 - val_loss: 1.5453 - val_accuracy: 0.2917\n",
      "\n",
      "Epoch 00001: val_loss improved from inf to 1.54532, saving model to model/iris_deep.hdf5\n",
      "Epoch 2/100\n",
      " - 0s - loss: 1.3691 - accuracy: 0.3438 - val_loss: 1.4621 - val_accuracy: 0.2917\n",
      "\n",
      "Epoch 00002: val_loss improved from 1.54532 to 1.46208, saving model to model/iris_deep.hdf5\n",
      "Epoch 3/100\n",
      " - 0s - loss: 1.3059 - accuracy: 0.3438 - val_loss: 1.3811 - val_accuracy: 0.2917\n",
      "\n",
      "Epoch 00003: val_loss improved from 1.46208 to 1.38107, saving model to model/iris_deep.hdf5\n",
      "Epoch 4/100\n",
      " - 0s - loss: 1.2449 - accuracy: 0.3438 - val_loss: 1.3013 - val_accuracy: 0.2917\n",
      "\n",
      "Epoch 00004: val_loss improved from 1.38107 to 1.30129, saving model to model/iris_deep.hdf5\n",
      "Epoch 5/100\n",
      " - 0s - loss: 1.1864 - accuracy: 0.3438 - val_loss: 1.2439 - val_accuracy: 0.2917\n",
      "\n",
      "Epoch 00005: val_loss improved from 1.30129 to 1.24394, saving model to model/iris_deep.hdf5\n",
      "Epoch 6/100\n",
      " - 0s - loss: 1.1458 - accuracy: 0.3438 - val_loss: 1.2119 - val_accuracy: 0.2917\n",
      "\n",
      "Epoch 00006: val_loss improved from 1.24394 to 1.21195, saving model to model/iris_deep.hdf5\n",
      "Epoch 7/100\n",
      " - 0s - loss: 1.1245 - accuracy: 0.3438 - val_loss: 1.1894 - val_accuracy: 0.2917\n",
      "\n",
      "Epoch 00007: val_loss improved from 1.21195 to 1.18936, saving model to model/iris_deep.hdf5\n",
      "Epoch 8/100\n",
      " - 0s - loss: 1.1102 - accuracy: 0.3438 - val_loss: 1.1748 - val_accuracy: 0.2917\n",
      "\n",
      "Epoch 00008: val_loss improved from 1.18936 to 1.17476, saving model to model/iris_deep.hdf5\n",
      "Epoch 9/100\n",
      " - 0s - loss: 1.1000 - accuracy: 0.3438 - val_loss: 1.1635 - val_accuracy: 0.3333\n",
      "\n",
      "Epoch 00009: val_loss improved from 1.17476 to 1.16351, saving model to model/iris_deep.hdf5\n",
      "Epoch 10/100\n",
      " - 0s - loss: 1.0924 - accuracy: 0.3438 - val_loss: 1.1537 - val_accuracy: 0.3333\n",
      "\n",
      "Epoch 00010: val_loss improved from 1.16351 to 1.15374, saving model to model/iris_deep.hdf5\n",
      "Epoch 11/100\n",
      " - 0s - loss: 1.0863 - accuracy: 0.3542 - val_loss: 1.1455 - val_accuracy: 0.3750\n",
      "\n",
      "Epoch 00011: val_loss improved from 1.15374 to 1.14547, saving model to model/iris_deep.hdf5\n",
      "Epoch 12/100\n",
      " - 0s - loss: 1.0805 - accuracy: 0.3958 - val_loss: 1.1379 - val_accuracy: 0.3750\n",
      "\n",
      "Epoch 00012: val_loss improved from 1.14547 to 1.13787, saving model to model/iris_deep.hdf5\n",
      "Epoch 13/100\n",
      " - 0s - loss: 1.0752 - accuracy: 0.4792 - val_loss: 1.1311 - val_accuracy: 0.4583\n",
      "\n",
      "Epoch 00013: val_loss improved from 1.13787 to 1.13112, saving model to model/iris_deep.hdf5\n",
      "Epoch 14/100\n",
      " - 0s - loss: 1.0707 - accuracy: 0.5729 - val_loss: 1.1253 - val_accuracy: 0.5000\n",
      "\n",
      "Epoch 00014: val_loss improved from 1.13112 to 1.12532, saving model to model/iris_deep.hdf5\n",
      "Epoch 15/100\n",
      " - 0s - loss: 1.0657 - accuracy: 0.5938 - val_loss: 1.1200 - val_accuracy: 0.5417\n",
      "\n",
      "Epoch 00015: val_loss improved from 1.12532 to 1.12004, saving model to model/iris_deep.hdf5\n",
      "Epoch 16/100\n",
      " - 0s - loss: 1.0611 - accuracy: 0.6562 - val_loss: 1.1145 - val_accuracy: 0.5833\n",
      "\n",
      "Epoch 00016: val_loss improved from 1.12004 to 1.11448, saving model to model/iris_deep.hdf5\n",
      "Epoch 17/100\n",
      " - 0s - loss: 1.0566 - accuracy: 0.6771 - val_loss: 1.1098 - val_accuracy: 0.5833\n",
      "\n",
      "Epoch 00017: val_loss improved from 1.11448 to 1.10976, saving model to model/iris_deep.hdf5\n",
      "Epoch 18/100\n",
      " - 0s - loss: 1.0524 - accuracy: 0.6875 - val_loss: 1.1053 - val_accuracy: 0.5833\n",
      "\n",
      "Epoch 00018: val_loss improved from 1.10976 to 1.10535, saving model to model/iris_deep.hdf5\n",
      "Epoch 19/100\n",
      " - 0s - loss: 1.0472 - accuracy: 0.6875 - val_loss: 1.1014 - val_accuracy: 0.5833\n",
      "\n",
      "Epoch 00019: val_loss improved from 1.10535 to 1.10137, saving model to model/iris_deep.hdf5\n",
      "Epoch 20/100\n",
      " - 0s - loss: 1.0422 - accuracy: 0.6771 - val_loss: 1.0957 - val_accuracy: 0.5833\n",
      "\n",
      "Epoch 00020: val_loss improved from 1.10137 to 1.09570, saving model to model/iris_deep.hdf5\n",
      "Epoch 21/100\n",
      " - 0s - loss: 1.0367 - accuracy: 0.6667 - val_loss: 1.0892 - val_accuracy: 0.5833\n",
      "\n",
      "Epoch 00021: val_loss improved from 1.09570 to 1.08920, saving model to model/iris_deep.hdf5\n",
      "Epoch 22/100\n",
      " - 0s - loss: 1.0302 - accuracy: 0.6667 - val_loss: 1.0822 - val_accuracy: 0.5417\n",
      "\n",
      "Epoch 00022: val_loss improved from 1.08920 to 1.08216, saving model to model/iris_deep.hdf5\n",
      "Epoch 23/100\n",
      " - 0s - loss: 1.0235 - accuracy: 0.6667 - val_loss: 1.0747 - val_accuracy: 0.5417\n",
      "\n",
      "Epoch 00023: val_loss improved from 1.08216 to 1.07466, saving model to model/iris_deep.hdf5\n",
      "Epoch 24/100\n",
      " - 0s - loss: 1.0168 - accuracy: 0.6667 - val_loss: 1.0666 - val_accuracy: 0.5417\n",
      "\n",
      "Epoch 00024: val_loss improved from 1.07466 to 1.06665, saving model to model/iris_deep.hdf5\n",
      "Epoch 25/100\n",
      " - 0s - loss: 1.0093 - accuracy: 0.6667 - val_loss: 1.0579 - val_accuracy: 0.5417\n",
      "\n",
      "Epoch 00025: val_loss improved from 1.06665 to 1.05792, saving model to model/iris_deep.hdf5\n",
      "Epoch 26/100\n",
      " - 0s - loss: 1.0015 - accuracy: 0.6562 - val_loss: 1.0481 - val_accuracy: 0.5417\n",
      "\n",
      "Epoch 00026: val_loss improved from 1.05792 to 1.04810, saving model to model/iris_deep.hdf5\n",
      "Epoch 27/100\n",
      " - 0s - loss: 0.9927 - accuracy: 0.6562 - val_loss: 1.0378 - val_accuracy: 0.5417\n",
      "\n",
      "Epoch 00027: val_loss improved from 1.04810 to 1.03778, saving model to model/iris_deep.hdf5\n",
      "Epoch 28/100\n",
      " - 0s - loss: 0.9847 - accuracy: 0.6667 - val_loss: 1.0272 - val_accuracy: 0.5833\n",
      "\n",
      "Epoch 00028: val_loss improved from 1.03778 to 1.02724, saving model to model/iris_deep.hdf5\n",
      "Epoch 29/100\n",
      " - 0s - loss: 0.9760 - accuracy: 0.6667 - val_loss: 1.0172 - val_accuracy: 0.5833\n",
      "\n",
      "Epoch 00029: val_loss improved from 1.02724 to 1.01722, saving model to model/iris_deep.hdf5\n",
      "Epoch 30/100\n",
      " - 0s - loss: 0.9674 - accuracy: 0.6667 - val_loss: 1.0068 - val_accuracy: 0.5833\n",
      "\n",
      "Epoch 00030: val_loss improved from 1.01722 to 1.00681, saving model to model/iris_deep.hdf5\n",
      "Epoch 31/100\n",
      " - 0s - loss: 0.9587 - accuracy: 0.6667 - val_loss: 0.9963 - val_accuracy: 0.5833\n",
      "\n",
      "Epoch 00031: val_loss improved from 1.00681 to 0.99625, saving model to model/iris_deep.hdf5\n",
      "Epoch 32/100\n",
      " - 0s - loss: 0.9496 - accuracy: 0.6875 - val_loss: 0.9858 - val_accuracy: 0.5833\n",
      "\n",
      "Epoch 00032: val_loss improved from 0.99625 to 0.98578, saving model to model/iris_deep.hdf5\n",
      "Epoch 33/100\n",
      " - 0s - loss: 0.9417 - accuracy: 0.6875 - val_loss: 0.9759 - val_accuracy: 0.5833\n",
      "\n",
      "Epoch 00033: val_loss improved from 0.98578 to 0.97594, saving model to model/iris_deep.hdf5\n",
      "Epoch 34/100\n",
      " - 0s - loss: 0.9320 - accuracy: 0.6875 - val_loss: 0.9655 - val_accuracy: 0.5833\n",
      "\n",
      "Epoch 00034: val_loss improved from 0.97594 to 0.96547, saving model to model/iris_deep.hdf5\n",
      "Epoch 35/100\n",
      " - 0s - loss: 0.9229 - accuracy: 0.6875 - val_loss: 0.9548 - val_accuracy: 0.5833\n",
      "\n",
      "Epoch 00035: val_loss improved from 0.96547 to 0.95483, saving model to model/iris_deep.hdf5\n",
      "Epoch 36/100\n",
      " - 0s - loss: 0.9145 - accuracy: 0.6875 - val_loss: 0.9441 - val_accuracy: 0.5833\n",
      "\n",
      "Epoch 00036: val_loss improved from 0.95483 to 0.94415, saving model to model/iris_deep.hdf5\n",
      "Epoch 37/100\n",
      " - 0s - loss: 0.9068 - accuracy: 0.6875 - val_loss: 0.9331 - val_accuracy: 0.5833\n",
      "\n",
      "Epoch 00037: val_loss improved from 0.94415 to 0.93310, saving model to model/iris_deep.hdf5\n",
      "Epoch 38/100\n",
      " - 0s - loss: 0.8971 - accuracy: 0.6875 - val_loss: 0.9222 - val_accuracy: 0.5833\n",
      "\n",
      "Epoch 00038: val_loss improved from 0.93310 to 0.92219, saving model to model/iris_deep.hdf5\n",
      "Epoch 39/100\n",
      " - 0s - loss: 0.8876 - accuracy: 0.6875 - val_loss: 0.9110 - val_accuracy: 0.5833\n",
      "\n",
      "Epoch 00039: val_loss improved from 0.92219 to 0.91100, saving model to model/iris_deep.hdf5\n",
      "Epoch 40/100\n",
      " - 0s - loss: 0.8782 - accuracy: 0.6875 - val_loss: 0.8997 - val_accuracy: 0.5833\n",
      "\n",
      "Epoch 00040: val_loss improved from 0.91100 to 0.89967, saving model to model/iris_deep.hdf5\n",
      "Epoch 41/100\n",
      " - 0s - loss: 0.8682 - accuracy: 0.6875 - val_loss: 0.8883 - val_accuracy: 0.5833\n",
      "\n",
      "Epoch 00041: val_loss improved from 0.89967 to 0.88831, saving model to model/iris_deep.hdf5\n",
      "Epoch 42/100\n",
      " - 0s - loss: 0.8587 - accuracy: 0.6875 - val_loss: 0.8780 - val_accuracy: 0.5833\n",
      "\n",
      "Epoch 00042: val_loss improved from 0.88831 to 0.87796, saving model to model/iris_deep.hdf5\n",
      "Epoch 43/100\n",
      " - 0s - loss: 0.8503 - accuracy: 0.6875 - val_loss: 0.8674 - val_accuracy: 0.5833\n",
      "\n",
      "Epoch 00043: val_loss improved from 0.87796 to 0.86736, saving model to model/iris_deep.hdf5\n",
      "Epoch 44/100\n",
      " - 0s - loss: 0.8409 - accuracy: 0.6875 - val_loss: 0.8572 - val_accuracy: 0.5833\n"
     ]
    },
    {
     "name": "stdout",
     "output_type": "stream",
     "text": [
      "\n",
      "Epoch 00044: val_loss improved from 0.86736 to 0.85719, saving model to model/iris_deep.hdf5\n",
      "Epoch 45/100\n",
      " - 0s - loss: 0.8318 - accuracy: 0.6875 - val_loss: 0.8473 - val_accuracy: 0.5833\n",
      "\n",
      "Epoch 00045: val_loss improved from 0.85719 to 0.84734, saving model to model/iris_deep.hdf5\n",
      "Epoch 46/100\n",
      " - 0s - loss: 0.8228 - accuracy: 0.6875 - val_loss: 0.8380 - val_accuracy: 0.5833\n",
      "\n",
      "Epoch 00046: val_loss improved from 0.84734 to 0.83797, saving model to model/iris_deep.hdf5\n",
      "Epoch 47/100\n",
      " - 0s - loss: 0.8141 - accuracy: 0.6979 - val_loss: 0.8278 - val_accuracy: 0.5833\n",
      "\n",
      "Epoch 00047: val_loss improved from 0.83797 to 0.82784, saving model to model/iris_deep.hdf5\n",
      "Epoch 48/100\n",
      " - 0s - loss: 0.8046 - accuracy: 0.7292 - val_loss: 0.8169 - val_accuracy: 0.7083\n",
      "\n",
      "Epoch 00048: val_loss improved from 0.82784 to 0.81690, saving model to model/iris_deep.hdf5\n",
      "Epoch 49/100\n",
      " - 0s - loss: 0.7953 - accuracy: 0.7500 - val_loss: 0.8059 - val_accuracy: 0.8750\n",
      "\n",
      "Epoch 00049: val_loss improved from 0.81690 to 0.80589, saving model to model/iris_deep.hdf5\n",
      "Epoch 50/100\n",
      " - 0s - loss: 0.7862 - accuracy: 0.8333 - val_loss: 0.7947 - val_accuracy: 0.8750\n",
      "\n",
      "Epoch 00050: val_loss improved from 0.80589 to 0.79466, saving model to model/iris_deep.hdf5\n",
      "Epoch 51/100\n",
      " - 0s - loss: 0.7764 - accuracy: 0.8333 - val_loss: 0.7835 - val_accuracy: 0.8750\n",
      "\n",
      "Epoch 00051: val_loss improved from 0.79466 to 0.78354, saving model to model/iris_deep.hdf5\n",
      "Epoch 52/100\n",
      " - 0s - loss: 0.7668 - accuracy: 0.8854 - val_loss: 0.7723 - val_accuracy: 0.8750\n",
      "\n",
      "Epoch 00052: val_loss improved from 0.78354 to 0.77234, saving model to model/iris_deep.hdf5\n",
      "Epoch 53/100\n",
      " - 0s - loss: 0.7578 - accuracy: 0.8750 - val_loss: 0.7608 - val_accuracy: 0.8750\n",
      "\n",
      "Epoch 00053: val_loss improved from 0.77234 to 0.76080, saving model to model/iris_deep.hdf5\n",
      "Epoch 54/100\n",
      " - 0s - loss: 0.7484 - accuracy: 0.8750 - val_loss: 0.7493 - val_accuracy: 0.8750\n",
      "\n",
      "Epoch 00054: val_loss improved from 0.76080 to 0.74934, saving model to model/iris_deep.hdf5\n",
      "Epoch 55/100\n",
      " - 0s - loss: 0.7388 - accuracy: 0.8750 - val_loss: 0.7388 - val_accuracy: 0.8750\n",
      "\n",
      "Epoch 00055: val_loss improved from 0.74934 to 0.73879, saving model to model/iris_deep.hdf5\n",
      "Epoch 56/100\n",
      " - 0s - loss: 0.7291 - accuracy: 0.8750 - val_loss: 0.7294 - val_accuracy: 0.8750\n",
      "\n",
      "Epoch 00056: val_loss improved from 0.73879 to 0.72942, saving model to model/iris_deep.hdf5\n",
      "Epoch 57/100\n",
      " - 0s - loss: 0.7201 - accuracy: 0.8958 - val_loss: 0.7199 - val_accuracy: 0.9167\n",
      "\n",
      "Epoch 00057: val_loss improved from 0.72942 to 0.71993, saving model to model/iris_deep.hdf5\n",
      "Epoch 58/100\n",
      " - 0s - loss: 0.7110 - accuracy: 0.8854 - val_loss: 0.7093 - val_accuracy: 0.8750\n",
      "\n",
      "Epoch 00058: val_loss improved from 0.71993 to 0.70934, saving model to model/iris_deep.hdf5\n",
      "Epoch 59/100\n",
      " - 0s - loss: 0.7012 - accuracy: 0.8854 - val_loss: 0.6991 - val_accuracy: 0.8750\n",
      "\n",
      "Epoch 00059: val_loss improved from 0.70934 to 0.69907, saving model to model/iris_deep.hdf5\n",
      "Epoch 60/100\n",
      " - 0s - loss: 0.6928 - accuracy: 0.8854 - val_loss: 0.6895 - val_accuracy: 0.9167\n",
      "\n",
      "Epoch 00060: val_loss improved from 0.69907 to 0.68949, saving model to model/iris_deep.hdf5\n",
      "Epoch 61/100\n",
      " - 0s - loss: 0.6845 - accuracy: 0.9271 - val_loss: 0.6802 - val_accuracy: 0.8750\n",
      "\n",
      "Epoch 00061: val_loss improved from 0.68949 to 0.68024, saving model to model/iris_deep.hdf5\n",
      "Epoch 62/100\n",
      " - 0s - loss: 0.6762 - accuracy: 0.9375 - val_loss: 0.6712 - val_accuracy: 0.8750\n",
      "\n",
      "Epoch 00062: val_loss improved from 0.68024 to 0.67124, saving model to model/iris_deep.hdf5\n",
      "Epoch 63/100\n",
      " - 0s - loss: 0.6665 - accuracy: 0.9375 - val_loss: 0.6627 - val_accuracy: 0.8750\n",
      "\n",
      "Epoch 00063: val_loss improved from 0.67124 to 0.66274, saving model to model/iris_deep.hdf5\n",
      "Epoch 64/100\n",
      " - 0s - loss: 0.6574 - accuracy: 0.8958 - val_loss: 0.6550 - val_accuracy: 0.9167\n",
      "\n",
      "Epoch 00064: val_loss improved from 0.66274 to 0.65503, saving model to model/iris_deep.hdf5\n",
      "Epoch 65/100\n",
      " - 0s - loss: 0.6510 - accuracy: 0.8958 - val_loss: 0.6480 - val_accuracy: 0.9167\n",
      "\n",
      "Epoch 00065: val_loss improved from 0.65503 to 0.64799, saving model to model/iris_deep.hdf5\n",
      "Epoch 66/100\n",
      " - 0s - loss: 0.6445 - accuracy: 0.8958 - val_loss: 0.6401 - val_accuracy: 0.9167\n",
      "\n",
      "Epoch 00066: val_loss improved from 0.64799 to 0.64015, saving model to model/iris_deep.hdf5\n",
      "Epoch 67/100\n",
      " - 0s - loss: 0.6365 - accuracy: 0.8958 - val_loss: 0.6310 - val_accuracy: 0.9167\n",
      "\n",
      "Epoch 00067: val_loss improved from 0.64015 to 0.63098, saving model to model/iris_deep.hdf5\n",
      "Epoch 68/100\n",
      " - 0s - loss: 0.6277 - accuracy: 0.8958 - val_loss: 0.6204 - val_accuracy: 0.9167\n",
      "\n",
      "Epoch 00068: val_loss improved from 0.63098 to 0.62039, saving model to model/iris_deep.hdf5\n",
      "Epoch 69/100\n",
      " - 0s - loss: 0.6185 - accuracy: 0.9062 - val_loss: 0.6102 - val_accuracy: 0.8750\n",
      "\n",
      "Epoch 00069: val_loss improved from 0.62039 to 0.61015, saving model to model/iris_deep.hdf5\n",
      "Epoch 70/100\n",
      " - 0s - loss: 0.6093 - accuracy: 0.9167 - val_loss: 0.6013 - val_accuracy: 0.8750\n",
      "\n",
      "Epoch 00070: val_loss improved from 0.61015 to 0.60127, saving model to model/iris_deep.hdf5\n",
      "Epoch 71/100\n",
      " - 0s - loss: 0.6013 - accuracy: 0.9375 - val_loss: 0.5921 - val_accuracy: 0.9167\n",
      "\n",
      "Epoch 00071: val_loss improved from 0.60127 to 0.59207, saving model to model/iris_deep.hdf5\n",
      "Epoch 72/100\n",
      " - 0s - loss: 0.5922 - accuracy: 0.9479 - val_loss: 0.5838 - val_accuracy: 0.8750\n",
      "\n",
      "Epoch 00072: val_loss improved from 0.59207 to 0.58377, saving model to model/iris_deep.hdf5\n",
      "Epoch 73/100\n",
      " - 0s - loss: 0.5845 - accuracy: 0.9271 - val_loss: 0.5782 - val_accuracy: 0.9167\n",
      "\n",
      "Epoch 00073: val_loss improved from 0.58377 to 0.57819, saving model to model/iris_deep.hdf5\n",
      "Epoch 74/100\n",
      " - 0s - loss: 0.5768 - accuracy: 0.9062 - val_loss: 0.5734 - val_accuracy: 0.9167\n",
      "\n",
      "Epoch 00074: val_loss improved from 0.57819 to 0.57337, saving model to model/iris_deep.hdf5\n",
      "Epoch 75/100\n",
      " - 0s - loss: 0.5700 - accuracy: 0.8958 - val_loss: 0.5659 - val_accuracy: 0.9167\n",
      "\n",
      "Epoch 00075: val_loss improved from 0.57337 to 0.56589, saving model to model/iris_deep.hdf5\n",
      "Epoch 76/100\n",
      " - 0s - loss: 0.5619 - accuracy: 0.8854 - val_loss: 0.5571 - val_accuracy: 0.9167\n",
      "\n",
      "Epoch 00076: val_loss improved from 0.56589 to 0.55712, saving model to model/iris_deep.hdf5\n",
      "Epoch 77/100\n",
      " - 0s - loss: 0.5523 - accuracy: 0.9062 - val_loss: 0.5468 - val_accuracy: 0.9167\n",
      "\n",
      "Epoch 00077: val_loss improved from 0.55712 to 0.54682, saving model to model/iris_deep.hdf5\n",
      "Epoch 78/100\n",
      " - 0s - loss: 0.5428 - accuracy: 0.9167 - val_loss: 0.5363 - val_accuracy: 0.9167\n",
      "\n",
      "Epoch 00078: val_loss improved from 0.54682 to 0.53634, saving model to model/iris_deep.hdf5\n",
      "Epoch 79/100\n",
      " - 0s - loss: 0.5336 - accuracy: 0.9583 - val_loss: 0.5262 - val_accuracy: 0.9167\n",
      "\n",
      "Epoch 00079: val_loss improved from 0.53634 to 0.52617, saving model to model/iris_deep.hdf5\n",
      "Epoch 80/100\n",
      " - 0s - loss: 0.5236 - accuracy: 0.9583 - val_loss: 0.5172 - val_accuracy: 0.9167\n",
      "\n",
      "Epoch 00080: val_loss improved from 0.52617 to 0.51721, saving model to model/iris_deep.hdf5\n",
      "Epoch 81/100\n",
      " - 0s - loss: 0.5167 - accuracy: 0.9479 - val_loss: 0.5083 - val_accuracy: 0.9167\n",
      "\n",
      "Epoch 00081: val_loss improved from 0.51721 to 0.50830, saving model to model/iris_deep.hdf5\n",
      "Epoch 82/100\n",
      " - 0s - loss: 0.5074 - accuracy: 0.9479 - val_loss: 0.5009 - val_accuracy: 0.9583\n",
      "\n",
      "Epoch 00082: val_loss improved from 0.50830 to 0.50094, saving model to model/iris_deep.hdf5\n",
      "Epoch 83/100\n",
      " - 0s - loss: 0.4992 - accuracy: 0.9583 - val_loss: 0.4933 - val_accuracy: 0.9583\n",
      "\n",
      "Epoch 00083: val_loss improved from 0.50094 to 0.49332, saving model to model/iris_deep.hdf5\n",
      "Epoch 84/100\n",
      " - 0s - loss: 0.4915 - accuracy: 0.9583 - val_loss: 0.4860 - val_accuracy: 0.9583\n",
      "\n",
      "Epoch 00084: val_loss improved from 0.49332 to 0.48598, saving model to model/iris_deep.hdf5\n",
      "Epoch 85/100\n",
      " - 0s - loss: 0.4841 - accuracy: 0.9583 - val_loss: 0.4780 - val_accuracy: 0.9583\n",
      "\n",
      "Epoch 00085: val_loss improved from 0.48598 to 0.47795, saving model to model/iris_deep.hdf5\n",
      "Epoch 86/100\n",
      " - 0s - loss: 0.4759 - accuracy: 0.9583 - val_loss: 0.4694 - val_accuracy: 0.9167\n",
      "\n",
      "Epoch 00086: val_loss improved from 0.47795 to 0.46939, saving model to model/iris_deep.hdf5\n",
      "Epoch 87/100\n",
      " - 0s - loss: 0.4699 - accuracy: 0.9583 - val_loss: 0.4614 - val_accuracy: 0.8750\n",
      "\n",
      "Epoch 00087: val_loss improved from 0.46939 to 0.46144, saving model to model/iris_deep.hdf5\n",
      "Epoch 88/100\n"
     ]
    },
    {
     "name": "stdout",
     "output_type": "stream",
     "text": [
      " - 0s - loss: 0.4633 - accuracy: 0.9375 - val_loss: 0.4526 - val_accuracy: 0.8750\n",
      "\n",
      "Epoch 00088: val_loss improved from 0.46144 to 0.45259, saving model to model/iris_deep.hdf5\n",
      "Epoch 89/100\n",
      " - 0s - loss: 0.4540 - accuracy: 0.9479 - val_loss: 0.4439 - val_accuracy: 0.9167\n",
      "\n",
      "Epoch 00089: val_loss improved from 0.45259 to 0.44394, saving model to model/iris_deep.hdf5\n",
      "Epoch 90/100\n",
      " - 0s - loss: 0.4429 - accuracy: 0.9583 - val_loss: 0.4345 - val_accuracy: 0.9167\n",
      "\n",
      "Epoch 00090: val_loss improved from 0.44394 to 0.43450, saving model to model/iris_deep.hdf5\n",
      "Epoch 91/100\n",
      " - 0s - loss: 0.4322 - accuracy: 0.9688 - val_loss: 0.4255 - val_accuracy: 0.9583\n",
      "\n",
      "Epoch 00091: val_loss improved from 0.43450 to 0.42552, saving model to model/iris_deep.hdf5\n",
      "Epoch 92/100\n",
      " - 0s - loss: 0.4219 - accuracy: 0.9583 - val_loss: 0.4195 - val_accuracy: 0.9583\n",
      "\n",
      "Epoch 00092: val_loss improved from 0.42552 to 0.41952, saving model to model/iris_deep.hdf5\n",
      "Epoch 93/100\n",
      " - 0s - loss: 0.4128 - accuracy: 0.9583 - val_loss: 0.4128 - val_accuracy: 0.9167\n",
      "\n",
      "Epoch 00093: val_loss improved from 0.41952 to 0.41281, saving model to model/iris_deep.hdf5\n",
      "Epoch 94/100\n",
      " - 0s - loss: 0.4058 - accuracy: 0.9583 - val_loss: 0.4065 - val_accuracy: 0.9167\n",
      "\n",
      "Epoch 00094: val_loss improved from 0.41281 to 0.40654, saving model to model/iris_deep.hdf5\n",
      "Epoch 95/100\n",
      " - 0s - loss: 0.3989 - accuracy: 0.9583 - val_loss: 0.3977 - val_accuracy: 0.9167\n",
      "\n",
      "Epoch 00095: val_loss improved from 0.40654 to 0.39773, saving model to model/iris_deep.hdf5\n",
      "Epoch 96/100\n",
      " - 0s - loss: 0.3899 - accuracy: 0.9583 - val_loss: 0.3873 - val_accuracy: 0.9583\n",
      "\n",
      "Epoch 00096: val_loss improved from 0.39773 to 0.38734, saving model to model/iris_deep.hdf5\n",
      "Epoch 97/100\n",
      " - 0s - loss: 0.3826 - accuracy: 0.9583 - val_loss: 0.3798 - val_accuracy: 0.9583\n",
      "\n",
      "Epoch 00097: val_loss improved from 0.38734 to 0.37977, saving model to model/iris_deep.hdf5\n",
      "Epoch 98/100\n",
      " - 0s - loss: 0.3784 - accuracy: 0.9583 - val_loss: 0.3739 - val_accuracy: 0.9583\n",
      "\n",
      "Epoch 00098: val_loss improved from 0.37977 to 0.37386, saving model to model/iris_deep.hdf5\n",
      "Epoch 99/100\n",
      " - 0s - loss: 0.3754 - accuracy: 0.9479 - val_loss: 0.3682 - val_accuracy: 0.9583\n",
      "\n",
      "Epoch 00099: val_loss improved from 0.37386 to 0.36823, saving model to model/iris_deep.hdf5\n",
      "Epoch 100/100\n",
      " - 0s - loss: 0.3690 - accuracy: 0.9479 - val_loss: 0.3618 - val_accuracy: 0.9167\n",
      "\n",
      "Epoch 00100: val_loss improved from 0.36823 to 0.36177, saving model to model/iris_deep.hdf5\n"
     ]
    },
    {
     "data": {
      "text/plain": [
       "<keras.callbacks.callbacks.History at 0x1e4e4b59f08>"
      ]
     },
     "execution_count": 47,
     "metadata": {},
     "output_type": "execute_result"
    }
   ],
   "source": [
    "# 모델학습\n",
    "model.fit(x_train, Y_encoded, epochs = 100, batch_size = 30, verbose = 2,\n",
    "         validation_split = 0.2, callbacks = [checkpointer])"
   ]
  },
  {
   "cell_type": "code",
   "execution_count": 49,
   "metadata": {},
   "outputs": [],
   "source": [
    "from keras.models import load_model\n",
    "model_deep = load_model('model/iris_deep.hdf5')"
   ]
  },
  {
   "cell_type": "code",
   "execution_count": 50,
   "metadata": {},
   "outputs": [
    {
     "name": "stdout",
     "output_type": "stream",
     "text": [
      "\r",
      "30/30 [==============================] - 0s 0us/step\n"
     ]
    },
    {
     "data": {
      "text/plain": [
       "0.9666666388511658"
      ]
     },
     "execution_count": 50,
     "metadata": {},
     "output_type": "execute_result"
    }
   ],
   "source": [
    "model.evaluate(x_test, keras.utils.to_categorical(y_test))[1]"
   ]
  },
  {
   "cell_type": "code",
   "execution_count": 55,
   "metadata": {},
   "outputs": [
    {
     "data": {
      "text/plain": [
       "array([[0.00613038, 0.2522221 , 0.7416475 ]], dtype=float32)"
      ]
     },
     "execution_count": 55,
     "metadata": {},
     "output_type": "execute_result"
    }
   ],
   "source": [
    "model_deep.predict(test_data)"
   ]
  },
  {
   "cell_type": "code",
   "execution_count": 52,
   "metadata": {},
   "outputs": [
    {
     "data": {
      "text/plain": [
       "2"
      ]
     },
     "execution_count": 52,
     "metadata": {},
     "output_type": "execute_result"
    }
   ],
   "source": [
    "model_deep.predict_classes(test_data)[0]"
   ]
  },
  {
   "cell_type": "code",
   "execution_count": 54,
   "metadata": {},
   "outputs": [
    {
     "data": {
      "text/plain": [
       "2"
      ]
     },
     "execution_count": 54,
     "metadata": {},
     "output_type": "execute_result"
    }
   ],
   "source": [
    "np.argmax(model_deep.predict(test_data)[0])"
   ]
  },
  {
   "cell_type": "code",
   "execution_count": null,
   "metadata": {},
   "outputs": [],
   "source": []
  }
 ],
 "metadata": {
  "kernelspec": {
   "display_name": "Python 3",
   "language": "python",
   "name": "python3"
  },
  "language_info": {
   "codemirror_mode": {
    "name": "ipython",
    "version": 3
   },
   "file_extension": ".py",
   "mimetype": "text/x-python",
   "name": "python",
   "nbconvert_exporter": "python",
   "pygments_lexer": "ipython3",
   "version": "3.7.7"
  }
 },
 "nbformat": 4,
 "nbformat_minor": 4
}
